{
 "cells": [
  {
   "cell_type": "code",
   "execution_count": 22,
   "metadata": {},
   "outputs": [
    {
     "name": "stdout",
     "output_type": "stream",
     "text": [
      "2\n",
      "3\n",
      "5\n",
      "7\n"
     ]
    }
   ],
   "source": [
    "# \"for\" loop\n",
    "primes = [2, 3, 5, 7]\n",
    "for _ in primes:\n",
    "    print(_)"
   ]
  },
  {
   "cell_type": "code",
   "execution_count": 23,
   "metadata": {},
   "outputs": [
    {
     "name": "stdout",
     "output_type": "stream",
     "text": [
      "0\n",
      "1\n",
      "2\n",
      "3\n",
      "4\n"
     ]
    }
   ],
   "source": [
    "# \"range\": \n",
    "# Prints out the numbers 0,1,2,3,4\n",
    "for x in range(5):\n",
    "    print(x)"
   ]
  },
  {
   "cell_type": "code",
   "execution_count": 24,
   "metadata": {},
   "outputs": [
    {
     "name": "stdout",
     "output_type": "stream",
     "text": [
      "3\n",
      "4\n",
      "5\n"
     ]
    }
   ],
   "source": [
    "# Prints out 3,4,5\n",
    "for x in range(3, 6):\n",
    "    print(x)"
   ]
  },
  {
   "cell_type": "code",
   "execution_count": 25,
   "metadata": {},
   "outputs": [
    {
     "name": "stdout",
     "output_type": "stream",
     "text": [
      "3\n",
      "5\n",
      "7\n"
     ]
    }
   ],
   "source": [
    "# Prints out 3,5,7\n",
    "for x in range(3, 8, 2):\n",
    "    print(x)"
   ]
  },
  {
   "cell_type": "code",
   "execution_count": 26,
   "metadata": {},
   "outputs": [
    {
     "name": "stdout",
     "output_type": "stream",
     "text": [
      "2\n",
      "3\n",
      "4\n"
     ]
    }
   ],
   "source": [
    "# \"while\" loop\n",
    "# Prints out 0,1,2,3,4\n",
    "count = 2\n",
    "while count < 5:\n",
    "    print(count)\n",
    "    count += 1  # This is the same as count = count + 1"
   ]
  },
  {
   "cell_type": "code",
   "execution_count": 27,
   "metadata": {},
   "outputs": [
    {
     "name": "stdout",
     "output_type": "stream",
     "text": [
      "0\n",
      "1\n",
      "2\n",
      "3\n",
      "4\n"
     ]
    }
   ],
   "source": [
    "# \"break\"; Prints out 0,1,2,3,4\n",
    "count = 0\n",
    "while True: # 没有break的话会一直打下去\n",
    "    print(count)\n",
    "    count += 1\n",
    "    if count >= 5:\n",
    "        break"
   ]
  },
  {
   "cell_type": "code",
   "execution_count": 2,
   "metadata": {},
   "outputs": [
    {
     "name": "stdout",
     "output_type": "stream",
     "text": [
      "1\n",
      "3\n",
      "5\n",
      "7\n",
      "9\n"
     ]
    }
   ],
   "source": [
    "# \"continue\"; Prints out only odd numbers - 1,3,5,7,9\n",
    "for x in range(10):\n",
    "    # Check if x is even\n",
    "    if x % 2 == 0:\n",
    "        continue # 不做下一步，继续循环（这个数扔了不管）\n",
    "    print(x)"
   ]
  },
  {
   "cell_type": "code",
   "execution_count": 3,
   "metadata": {},
   "outputs": [
    {
     "name": "stdout",
     "output_type": "stream",
     "text": [
      "0\n",
      "1\n",
      "2\n",
      "3\n",
      "4\n",
      "count value reached 5\n",
      "1\n",
      "2\n",
      "3\n",
      "4\n"
     ]
    }
   ],
   "source": [
    "# \"else\"; Prints out 0,1,2,3,4 and then it prints \"count value reached 5\"\n",
    "\n",
    "count=0\n",
    "while(count<5):\n",
    "    print(count)\n",
    "    count +=1\n",
    "else:\n",
    "    print(\"count value reached %d\" %(count))\n",
    "\n",
    "# Prints out 1,2,3,4\n",
    "for i in range(1, 10):\n",
    "    if(i%5==0):\n",
    "        break\n",
    "    print(i)\n",
    "else:\n",
    "    print(\"this is not printed because for loop is terminated because of break but not due to fail in condition\")"
   ]
  },
  {
   "cell_type": "code",
   "execution_count": 13,
   "metadata": {},
   "outputs": [],
   "source": [
    "# Exercise\n",
    "numbers = [\n",
    "    951, 402, 984, 651, 360, 69, 408, 319, 601, 485, 980, 507, 725, 547, 544,\n",
    "    615, 83, 165, 141, 501, 263, 617, 865, 575, 219, 390, 984, 592, 236, 105, 942, 941,\n",
    "    386, 462, 47, 418, 907, 344, 236, 375, 823, 566, 597, 978, 328, 615, 953, 345,\n",
    "    399, 162, 758, 219, 918, 237, 412, 566, 826, 248, 866, 950, 626, 949, 687, 217,\n",
    "    815, 67, 104, 58, 512, 24, 892, 894, 767, 553, 81, 379, 843, 831, 445, 742, 717,\n",
    "    958, 609, 842, 451, 688, 753, 854, 685, 93, 857, 440, 380, 126, 721, 328, 753, 470,\n",
    "    743, 527\n",
    "]\n",
    "\n",
    "# your code goes the following:\n"
   ]
  },
  {
   "cell_type": "code",
   "execution_count": 14,
   "metadata": {},
   "outputs": [],
   "source": [
    "# Requirement:\n",
    "# Loop through and print out all even numbers from the numbers list \n",
    "# in the same order they are received.\n",
    "# Don't print any numbers that come after 237 in the sequence. (includes 237 itself)\n",
    "# Note: You can input any random numbers here and give a specific number \n",
    "# as a key number, like 237 here;\n",
    "# then write your code. I give you 5 minutes to think about; \n",
    "# then compare your code with mine."
   ]
  },
  {
   "cell_type": "code",
   "execution_count": 15,
   "metadata": {},
   "outputs": [
    {
     "name": "stdout",
     "output_type": "stream",
     "text": [
      "402\n",
      "984\n",
      "360\n",
      "408\n",
      "980\n",
      "544\n",
      "390\n",
      "984\n",
      "592\n",
      "236\n",
      "942\n",
      "386\n",
      "462\n",
      "418\n",
      "344\n",
      "236\n",
      "566\n",
      "978\n",
      "328\n",
      "162\n",
      "758\n",
      "918\n"
     ]
    }
   ],
   "source": [
    "# 打印顺序排在 237 之前的偶数\n",
    "# 从第一个开始轮，等于237就跳出整个循环（break）\n",
    "# 每确定一个数不等于237，就判断是否为偶数（若是奇数则使用continue跳过这个数）\n",
    "for number in numbers:\n",
    "    if number == 237:\n",
    "        break\n",
    "\n",
    "    if number % 2 == 1:\n",
    "        continue\n",
    "\n",
    "    print(number)"
   ]
  },
  {
   "cell_type": "code",
   "execution_count": 16,
   "metadata": {},
   "outputs": [],
   "source": [
    "# Functions\n",
    "def my_function():\n",
    "    print(\"Hello From My Function!\")"
   ]
  },
  {
   "cell_type": "code",
   "execution_count": 17,
   "metadata": {},
   "outputs": [],
   "source": [
    "def my_function_with_args(username, greeting):\n",
    "    print(\"Hello, %s , From My Function!, I wish you %s\"%(username, greeting))"
   ]
  },
  {
   "cell_type": "code",
   "execution_count": 18,
   "metadata": {},
   "outputs": [],
   "source": [
    "def sum_two_numbers(a, b):\n",
    "    return a + b"
   ]
  },
  {
   "cell_type": "code",
   "execution_count": 23,
   "metadata": {},
   "outputs": [
    {
     "name": "stdout",
     "output_type": "stream",
     "text": [
      "Hello From My Function!\n",
      "Hello, John Doe , From My Function!, I wish you a great year!\n",
      "3\n"
     ]
    }
   ],
   "source": [
    "# call above functions\n",
    "# print(a simple greeting)\n",
    "my_function()\n",
    "\n",
    "#prints - \"Hello, John Doe, From My Function!, I wish you a great year!\"\n",
    "my_function_with_args(\"John Doe\", \"a great year!\")\n",
    "\n",
    "# after this line x will hold the value 3!\n",
    "x = sum_two_numbers(1,2)\n",
    "print(x)"
   ]
  },
  {
   "cell_type": "code",
   "execution_count": null,
   "metadata": {},
   "outputs": [],
   "source": [
    "# In this exercise you'll use an existing function, \n",
    "# and while adding your own to create a fully functional program.\n",
    "#   Add a function named list_benefits() that returns the following list of strings:\n",
    "#       \"More organized code\", \"More readable code\", \"Easier code reuse\", \n",
    "#       \"Allowing programmers to share and connect code together\"\n",
    "#   Add a function named build_sentence(info) which receives a single argument containing a string \n",
    "#       and returns a sentence starting with the given string and ending with the string \" is a benefit of functions!\"\n",
    "#   Run and see all the functions work together!\n"
   ]
  },
  {
   "cell_type": "code",
   "execution_count": 45,
   "metadata": {},
   "outputs": [
    {
     "name": "stdout",
     "output_type": "stream",
     "text": [
      "'Social skills' is one good quality of mine!\n",
      "'Good image' is one good quality of mine!\n",
      "'Eloquence' is one good quality of mine!\n"
     ]
    }
   ],
   "source": [
    "def good_qualities():\n",
    "    return \"'Social skills'\",\"'Good image'\",\"'Eloquence'\"\n",
    "\n",
    "def print_qualities(quality):\n",
    "    return \"%s is one good quality of mine!\" % quality\n",
    "\n",
    "\n",
    "def my_qualities():\n",
    "    \n",
    "    for _ in good_qualities():\n",
    "        print(print_qualities(_))\n",
    "\n",
    "my_qualities()"
   ]
  },
  {
   "cell_type": "code",
   "execution_count": 55,
   "metadata": {},
   "outputs": [
    {
     "name": "stdout",
     "output_type": "stream",
     "text": [
      "Chinese is one of your courses this semester.\n",
      "Math is one of your courses this semester.\n",
      "English is one of your courses this semester.\n",
      "P.E. is one of your courses this semester.\n",
      "Arts is one of your courses this semester.\n",
      "Music is one of your courses this semester.\n",
      "Physics is one of your courses this semester.\n",
      "Chemistry is one of your courses this semester.\n",
      "Biology is one of your courses this semester.\n"
     ]
    }
   ],
   "source": [
    "def courses():\n",
    "    return \"主科\",\"Chinese\",\"Math\",\"English\",\"副科\",\"P.E.\",\"Arts\",\"Music\",\"理科\",\"Physics\",\"Chemistry\",\"Biology\",\"文科\",\"Geography\",\"History\",\"Politics\"\n",
    "def print_courses(course):\n",
    "    return \"%s is one of your courses this semester.\" %course\n",
    "def my_courses():\n",
    "    for _ in courses():\n",
    "        if _ == \"主科\" or _ == \"副科\" or _ == \"理科\":\n",
    "            continue\n",
    "        if _ == \"文科\":\n",
    "            break\n",
    "        print (print_courses(_))\n",
    "my_courses()\n"
   ]
  },
  {
   "cell_type": "code",
   "execution_count": 59,
   "metadata": {},
   "outputs": [
    {
     "data": {
      "text/plain": [
       "'MSIS'"
      ]
     },
     "execution_count": 59,
     "metadata": {},
     "output_type": "execute_result"
    }
   ],
   "source": [
    "# class and objects\n",
    "class MyClass:\n",
    "    variable = \"MSIS\"\n",
    "\n",
    "MyClass().variable"
   ]
  },
  {
   "cell_type": "code",
   "execution_count": 61,
   "metadata": {},
   "outputs": [
    {
     "name": "stdout",
     "output_type": "stream",
     "text": [
      "MSIS\n"
     ]
    }
   ],
   "source": [
    "class MyClass:\n",
    "    variable = \"MSIS\"\n",
    "    \n",
    "print(MyClass().variable)"
   ]
  },
  {
   "cell_type": "code",
   "execution_count": 62,
   "metadata": {},
   "outputs": [
    {
     "name": "stdout",
     "output_type": "stream",
     "text": [
      "MSIS\n",
      "MSCSE\n"
     ]
    }
   ],
   "source": [
    "class MyClass:\n",
    "    variable = \"MSIS\"\n",
    "\n",
    "    def function(self):\n",
    "        print(\"This is a message inside the class.\")\n",
    "\n",
    "class_which_includes_MSIS = MyClass()\n",
    "class_which_includes_MSCSE = MyClass()\n",
    "\n",
    "class_which_includes_MSCSE.variable = \"MSCSE\" #更改了原本class中的变量\n",
    "\n",
    "# Then print out both values\n",
    "print(class_which_includes_MSIS.variable)\n",
    "print(class_which_includes_MSCSE.variable)"
   ]
  },
  {
   "cell_type": "code",
   "execution_count": 67,
   "metadata": {},
   "outputs": [
    {
     "name": "stdout",
     "output_type": "stream",
     "text": [
      "商务款 香槟色 奔驰的价格是 100000 美元\n",
      "商务款 黑色 特斯拉的价格是 200000 美元\n"
     ]
    }
   ],
   "source": [
    "# Exercise - class and objects\n",
    "# define the Vehicle class\n",
    "class Vehicle:\n",
    "    name = \"\"\n",
    "    kind = \"\"\n",
    "    color = \"\"\n",
    "    value = 0.00\n",
    "    def description(self):\n",
    "        desc_str = \"%s款 %s %s的价格是 %d 美元\" % (self.kind, self.color, self.name, self.value)\n",
    "        return desc_str\n",
    "# your code goes here\n",
    "car1 = Vehicle()\n",
    "car1.name = \"奔驰\"\n",
    "car1.kind = \"商务\"\n",
    "car1.color = \"香槟色\"\n",
    "car1.value = 100000.00\n",
    "\n",
    "car2 = Vehicle()\n",
    "car2.name = \"特斯拉\"\n",
    "car2.kind = \"商务\"\n",
    "car2.color = \"黑色\"\n",
    "car2.value = 200000.00\n",
    "\n",
    "# test code\n",
    "print(car1.description())\n",
    "print(car2.description())"
   ]
  },
  {
   "cell_type": "code",
   "execution_count": 69,
   "metadata": {},
   "outputs": [
    {
     "name": "stdout",
     "output_type": "stream",
     "text": [
      "{'John': '617-477566', 'Jack': '617-377264', 'Jill': '617-662781'}\n"
     ]
    }
   ],
   "source": [
    "# Dictionary\n",
    "phonebook = {}\n",
    "phonebook[\"John\"] = \"617-477566\"\n",
    "phonebook[\"Jack\"] = \"617-377264\"\n",
    "phonebook[\"Jill\"] = \"617-662781\"\n",
    "print(phonebook)"
   ]
  },
  {
   "cell_type": "code",
   "execution_count": 71,
   "metadata": {},
   "outputs": [
    {
     "name": "stdout",
     "output_type": "stream",
     "text": [
      "{'John': 617477566, 'Jack': 617377264, 'Jill': 617662781}\n"
     ]
    }
   ],
   "source": [
    "phonebook = {\n",
    "    \"John\" : 617477566,\n",
    "    \"Jack\" : 617377264,\n",
    "    \"Jill\" : 617662781\n",
    "}\n",
    "print(phonebook)"
   ]
  },
  {
   "cell_type": "code",
   "execution_count": 19,
   "metadata": {},
   "outputs": [
    {
     "name": "stdout",
     "output_type": "stream",
     "text": [
      "Phone number of John is 617477566\n",
      "Phone number of Jack is 617377264\n",
      "Phone number of Jill is 617662781\n"
     ]
    }
   ],
   "source": [
    "# iterating over dictionary (  for key,value in dictionary.items()  )\n",
    "phonebook = {\n",
    "    \"John\" : 617477566,\n",
    "    \"Jack\" : 617377264,\n",
    "    \"Jill\" : 617662781\n",
    "}\n",
    "for name, number in phonebook.items():\n",
    "    print(\"Phone number of %s is %d\" % (name, number))"
   ]
  },
  {
   "cell_type": "code",
   "execution_count": 86,
   "metadata": {},
   "outputs": [
    {
     "name": "stdout",
     "output_type": "stream",
     "text": [
      "dict_items([])\n"
     ]
    }
   ],
   "source": [
    "# random sales dictionary\n",
    "mydictionary ={}\n",
    "print(mydictionary.items())"
   ]
  },
  {
   "cell_type": "code",
   "execution_count": 85,
   "metadata": {},
   "outputs": [
    {
     "name": "stdout",
     "output_type": "stream",
     "text": [
      "{}\n"
     ]
    }
   ],
   "source": [
    "mydictionary ={}\n",
    "print(mydictionary)"
   ]
  },
  {
   "cell_type": "code",
   "execution_count": 80,
   "metadata": {},
   "outputs": [],
   "source": [
    "alphabet ={\n",
    "    'a': 1, \n",
    "    'b': 2, \n",
    "    'c': 3 \n",
    "}\n",
    "print(alphabet.items())"
   ]
  },
  {
   "cell_type": "code",
   "execution_count": 87,
   "metadata": {},
   "outputs": [
    {
     "name": "stdout",
     "output_type": "stream",
     "text": [
      "{'a': 1, 'b': 2, 'c': 3}\n"
     ]
    }
   ],
   "source": [
    "alphabet ={\n",
    "    'a': 1, \n",
    "    'b': 2, \n",
    "    'c': 3 \n",
    "}\n",
    "print(alphabet)"
   ]
  },
  {
   "cell_type": "code",
   "execution_count": 88,
   "metadata": {},
   "outputs": [
    {
     "name": "stdout",
     "output_type": "stream",
     "text": [
      "{'a': 1, 'c': 3}\n"
     ]
    }
   ],
   "source": [
    "# remove a value\n",
    "alphabet ={\n",
    "    'a': 1, \n",
    "    'b': 2, \n",
    "    'c': 3 \n",
    "}\n",
    "del alphabet[\"b\"]\n",
    "print(alphabet)"
   ]
  },
  {
   "cell_type": "code",
   "execution_count": 95,
   "metadata": {},
   "outputs": [
    {
     "name": "stdout",
     "output_type": "stream",
     "text": [
      "{'b': 2, 'c': 3}\n"
     ]
    }
   ],
   "source": [
    "# or (用 pop方法 要使用 key值)\n",
    "alphabet ={\n",
    "    'a': 1, \n",
    "    'b': 2, \n",
    "    'c': 3 \n",
    "}\n",
    "alphabet.pop('a')\n",
    "print(alphabet)"
   ]
  },
  {
   "cell_type": "code",
   "execution_count": 99,
   "metadata": {},
   "outputs": [
    {
     "name": "stdout",
     "output_type": "stream",
     "text": [
      "{'a': 1, 'b': 2, 'c': 3}\n",
      "A is listed in the alphabet.\n",
      "Z is not listed in the alphabet.\n"
     ]
    }
   ],
   "source": [
    "# 在dictionary里增添或删除items\n",
    "alphabet = {\n",
    "    \"a\" : 1,\n",
    "    \"b\" : 2,\n",
    "    \"z\" : 26\n",
    "}\n",
    "alphabet[\"c\"] = 3\n",
    "del alphabet[\"z\"]\n",
    "\n",
    "print(alphabet)\n",
    "\n",
    "if \"a\" in alphabet:\n",
    "    print (\"A is listed in the alphabet.\")\n",
    "if \"z\" not in alphabet:\n",
    "    print (\"Z is not listed in the alphabet.\")\n"
   ]
  }
 ],
 "metadata": {
  "kernelspec": {
   "display_name": "Python 3",
   "language": "python",
   "name": "python3"
  },
  "language_info": {
   "codemirror_mode": {
    "name": "ipython",
    "version": 3
   },
   "file_extension": ".py",
   "mimetype": "text/x-python",
   "name": "python",
   "nbconvert_exporter": "python",
   "pygments_lexer": "ipython3",
   "version": "3.7.1"
  }
 },
 "nbformat": 4,
 "nbformat_minor": 2
}
