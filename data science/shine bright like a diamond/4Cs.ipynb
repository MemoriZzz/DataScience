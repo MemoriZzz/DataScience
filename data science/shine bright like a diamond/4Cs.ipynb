{
 "cells": [
  {
   "cell_type": "code",
   "execution_count": 2,
   "metadata": {},
   "outputs": [],
   "source": [
    "import numpy as np\n",
    "import pandas as pd\n",
    "import matplotlib\n",
    "import matplotlib.pyplot as plt\n",
    "import seaborn as sns\n",
    "from matplotlib.pyplot import figure\n",
    "from sklearn.linear_model import LinearRegression\n",
    "\n",
    "df = pd.read_csv('diamonds.csv')\n",
    "df = df.drop('Unnamed: 0', axis=1).drop('x', axis=1).drop('y', axis=1).drop('z', axis=1).drop('table', axis=1).drop('depth', axis=1)\n",
    "# replace cut from string to integer\n",
    "df = df.replace('Ideal',5 );\n",
    "df = df.replace('Premium',4)\n",
    "df = df.replace('Very Good', 3)\n",
    "df = df.replace('Good', 2)\n",
    "df = df.replace('Fair', 1)\n",
    "# replace clarity from string to integer\n",
    "df = df.replace('I1', 1)\n",
    "df = df.replace('SI2', 2)\n",
    "df = df.replace('SI1', 3)\n",
    "df = df.replace('VS2', 4)\n",
    "df = df.replace('VS1', 5)\n",
    "df = df.replace('VVS2', 6)\n",
    "df = df.replace('VVS1', 7)\n",
    "df = df.replace('IF', 8)\n",
    "# replace color from string to integer\n",
    "df = df.replace('J', 1)\n",
    "df = df.replace('I', 2)\n",
    "df = df.replace('H', 3)\n",
    "df = df.replace('G', 4)\n",
    "df = df.replace('F', 5)\n",
    "df = df.replace('E', 6)\n",
    "df = df.replace('D', 7)\n",
    "def div(a, b):\n",
    "    return a / b\n",
    "\n",
    "df['price_per_carat'] = df.apply(lambda row: div(row['price'], row['carat']), axis=1)"
   ]
  },
  {
   "cell_type": "code",
   "execution_count": 4,
   "metadata": {},
   "outputs": [],
   "source": [
    "df = df[df['carat']==1.0]\n"
   ]
  },
  {
   "cell_type": "code",
   "execution_count": 12,
   "metadata": {},
   "outputs": [
    {
     "name": "stdout",
     "output_type": "stream",
     "text": [
      "      carat  cut  color  clarity  price  price_per_carat\n",
      "1904    1.0    3      6        1   3080           3080.0\n",
      "2982    1.0    3      6        1   3300           3300.0\n",
      "mean price per carat\n",
      "3190.0\n",
      "      carat  cut  color  clarity  price  price_per_carat\n",
      "5140    1.0    3      6        2   3763           3763.0\n",
      "5143    1.0    3      6        2   3763           3763.0\n",
      "6223    1.0    3      6        2   4004           4004.0\n",
      "mean price per carat\n",
      "4376.25\n",
      "       carat  cut  color  clarity  price  price_per_carat\n",
      "8573     1.0    3      6        3   4435           4435.0\n",
      "10126    1.0    3      6        3   4719           4719.0\n",
      "10535    1.0    3      6        3   4805           4805.0\n",
      "mean price per carat\n",
      "5291.04\n",
      "       carat  cut  color  clarity  price  price_per_carat\n",
      "13516    1.0    3      6        4   5544           5544.0\n",
      "13825    1.0    3      6        4   5633           5633.0\n",
      "14102    1.0    3      6        4   5720           5720.0\n",
      "mean price per carat\n",
      "6483.866666666667\n",
      "       carat  cut  color  clarity  price  price_per_carat\n",
      "14650    1.0    3      6        5   5914           5914.0\n",
      "17461    1.0    3      6        5   7002           7002.0\n",
      "18173    1.0    3      6        5   7367           7367.0\n",
      "mean price per carat\n",
      "7210.285714285715\n",
      "       carat  cut  color  clarity  price  price_per_carat\n",
      "18929    1.0    3      6        6   7777           7777.0\n",
      "20197    1.0    3      6        6   8638           8638.0\n",
      "20606    1.0    3      6        6   8910           8910.0\n",
      "mean price per carat\n",
      "8995.75\n",
      "       carat  cut  color  clarity  price  price_per_carat\n",
      "22435    1.0    3      6        7  10463          10463.0\n",
      "mean price per carat\n",
      "10463.0\n",
      "       carat  cut  color  clarity  price  price_per_carat\n",
      "22912    1.0    3      6        8  10954          10954.0\n",
      "23207    1.0    3      6        8  11214          11214.0\n",
      "mean price per carat\n",
      "11084.0\n"
     ]
    }
   ],
   "source": [
    "for i in [3]:\n",
    "    for j in [6]:\n",
    "        for k in [1,2,3,4,5,6,7,8]:\n",
    "            dfc= df[df.cut.isin([i])]\n",
    "            dfcc = dfc[dfc.color.isin([j])]\n",
    "            dfccc = dfcc[dfcc.clarity.isin([k])]\n",
    "            print(dfccc.head(3))\n",
    "            print(\"mean price per carat\")\n",
    "            print(dfccc['price_per_carat'].mean())"
   ]
  },
  {
   "cell_type": "code",
   "execution_count": null,
   "metadata": {},
   "outputs": [],
   "source": []
  }
 ],
 "metadata": {
  "kernelspec": {
   "display_name": "Python 3",
   "language": "python",
   "name": "python3"
  },
  "language_info": {
   "codemirror_mode": {
    "name": "ipython",
    "version": 3
   },
   "file_extension": ".py",
   "mimetype": "text/x-python",
   "name": "python",
   "nbconvert_exporter": "python",
   "pygments_lexer": "ipython3",
   "version": "3.7.1"
  }
 },
 "nbformat": 4,
 "nbformat_minor": 2
}
