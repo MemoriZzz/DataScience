{
 "cells": [
  {
   "cell_type": "code",
   "execution_count": null,
   "metadata": {},
   "outputs": [],
   "source": [
    "# 2019/2/10 Homework: submitted by the end of 2019/2/19 on Blackboard."
   ]
  },
  {
   "cell_type": "code",
   "execution_count": null,
   "metadata": {},
   "outputs": [],
   "source": []
  },
  {
   "cell_type": "code",
   "execution_count": null,
   "metadata": {},
   "outputs": [],
   "source": [
    "# Numpy Homework: 10 questions, 3 points per question, total 30 points."
   ]
  },
  {
   "cell_type": "code",
   "execution_count": 3,
   "metadata": {},
   "outputs": [
    {
     "name": "stdout",
     "output_type": "stream",
     "text": [
      "[0. 0. 0. 0. 0. 0. 0. 0. 0. 0. 1. 1. 1. 1. 1. 1. 1. 1. 1. 1. 5. 5. 5. 5.\n",
      " 5. 5. 5. 5. 5. 5.]\n"
     ]
    }
   ],
   "source": [
    "# 1. create an array of 10 zeros, 10 ones, 10 fives.\n",
    "\n",
    "import numpy as np\n",
    "array1=np.zeros(10)\n",
    "array2=np.ones(10)\n",
    "array3=np.ones(10)*5\n",
    "array = np.append(np.append(array1,array2),array3)\n",
    "print(array)"
   ]
  },
  {
   "cell_type": "code",
   "execution_count": 4,
   "metadata": {},
   "outputs": [
    {
     "name": "stdout",
     "output_type": "stream",
     "text": [
      "[[[3 3 0]\n",
      "  [2 5 7]\n",
      "  [4 2 4]]\n",
      "\n",
      " [[2 9 6]\n",
      "  [0 6 6]\n",
      "  [2 4 6]]\n",
      "\n",
      " [[8 8 2]\n",
      "  [6 7 6]\n",
      "  [7 4 9]]]\n"
     ]
    }
   ],
   "source": [
    "# 2. create a 3x3x3 array filled with arbitrary values.\n",
    "\n",
    "array = np.random.randint(10, size=(3,3,3))\n",
    "print(array)"
   ]
  },
  {
   "cell_type": "code",
   "execution_count": 5,
   "metadata": {},
   "outputs": [
    {
     "name": "stdout",
     "output_type": "stream",
     "text": [
      "array size:  4\n"
     ]
    }
   ],
   "source": [
    "# 3. create an array with the values 1, 7, 13, 105 and \n",
    "# determine the size of the memory occupied by the array.\n",
    "\n",
    "array = np.array([1,7,13,105])\n",
    "print(\"array size: \", array.size)"
   ]
  },
  {
   "cell_type": "code",
   "execution_count": 6,
   "metadata": {},
   "outputs": [
    {
     "name": "stdout",
     "output_type": "stream",
     "text": [
      "[[18 10 17 14]\n",
      " [14 16 16 11]\n",
      " [19 19 15 15]]\n"
     ]
    }
   ],
   "source": [
    "# 4. create a 3x4 matrix filled with values from 10 to 21.\n",
    "\n",
    "array = np.random.randint(10,21, size=(3,4))\n",
    "print(array)"
   ]
  },
  {
   "cell_type": "code",
   "execution_count": 7,
   "metadata": {},
   "outputs": [
    {
     "name": "stdout",
     "output_type": "stream",
     "text": [
      "[[0 0 1 0]\n",
      " [0 0 1 1]\n",
      " [1 1 0 1]\n",
      " [1 0 1 0]]\n"
     ]
    }
   ],
   "source": [
    "# 5. create an 4x4 matrix in which 0 and 1 are staggered, with zeros on the main diagonal.\n",
    "\n",
    "array = np.random.randint(0,2, size=(4,4))\n",
    "array[0,0]=0\n",
    "array[1,1]=0\n",
    "array[2,2]=0\n",
    "array[3,3]=0\n",
    "print(array)"
   ]
  },
  {
   "cell_type": "code",
   "execution_count": 8,
   "metadata": {},
   "outputs": [
    {
     "name": "stdout",
     "output_type": "stream",
     "text": [
      "[22. 21. 20. 19. 18. 17. 16. 15. 14. 13. 12.]\n"
     ]
    }
   ],
   "source": [
    "# 6. reverse an array (first element becomes last)\n",
    "# Original array: [12 13 14 15 16 17 18 19 20 21 22]\n",
    "\n",
    "array = np.array([12, 13, 14, 15, 16, 17, 18, 19, 20, 21, 22])\n",
    "array_temp = np.array([])\n",
    "for i in array:\n",
    "    array_temp = np.append(i,array_temp)\n",
    "print(array_temp)"
   ]
  },
  {
   "cell_type": "code",
   "execution_count": 9,
   "metadata": {},
   "outputs": [
    {
     "name": "stdout",
     "output_type": "stream",
     "text": [
      "List to array:\n",
      " [1 2 3 4 5 6 7 8]\n",
      "Tuple to array:\n",
      " [[8 4 6]\n",
      " [1 2 3]]\n"
     ]
    }
   ],
   "source": [
    "# 7. convert a list and tuple into arrays.\n",
    "from numpy import asarray\n",
    "\n",
    "List = [1, 2, 3, 4, 5, 6, 7, 8]\n",
    "Tuple = ([8, 4, 6], [1, 2, 3])\n",
    "\n",
    "array_list = asarray(List)\n",
    "array_tuple = asarray(Tuple)\n",
    "\n",
    "print(\"List to array:\\n\",array_list)\n",
    "print(\"Tuple to array:\\n\",array_tuple)\n",
    "# Hint: see docstring: np.asarray?"
   ]
  },
  {
   "cell_type": "code",
   "execution_count": 10,
   "metadata": {},
   "outputs": [
    {
     "data": {
      "text/plain": [
       "'\\nList to array:\\n[1 2 3 4 5 6 7 8] \\nTuple to array:\\n[[8 4 6] \\n[1 2 3]]\\n'"
      ]
     },
     "execution_count": 10,
     "metadata": {},
     "output_type": "execute_result"
    }
   ],
   "source": [
    "# Desired Output\n",
    "'''\n",
    "List to array:\n",
    "[1 2 3 4 5 6 7 8] \n",
    "Tuple to array:\n",
    "[[8 4 6] \n",
    "[1 2 3]]\n",
    "'''"
   ]
  },
  {
   "cell_type": "code",
   "execution_count": 11,
   "metadata": {},
   "outputs": [
    {
     "name": "stdout",
     "output_type": "stream",
     "text": [
      "Original array:\n",
      " [10 20 30]\n",
      "After append values to the end of the array:\n",
      " [10 20 30 40 50 60 70 80 90]\n"
     ]
    }
   ],
   "source": [
    "# 8. append values to the end of an array\n",
    "\n",
    "array = np.array([10,20,30])\n",
    "print(\"Original array:\\n\",array)\n",
    "\n",
    "array_append = np.array([40,50,60,70,80,90])\n",
    "\n",
    "array = np.append(array,array_append)\n",
    "print(\"After append values to the end of the array:\\n\",array)"
   ]
  },
  {
   "cell_type": "code",
   "execution_count": 12,
   "metadata": {},
   "outputs": [
    {
     "data": {
      "text/plain": [
       "'\\nOriginal array:\\n[10, 20, 30]\\nAfter append values to the end of the array:\\n[10 20 30 40 50 60 70 80 90]\\n'"
      ]
     },
     "execution_count": 12,
     "metadata": {},
     "output_type": "execute_result"
    }
   ],
   "source": [
    "# Desired Output\n",
    "'''\n",
    "Original array:\n",
    "[10, 20, 30]\n",
    "After append values to the end of the array:\n",
    "[10 20 30 40 50 60 70 80 90]\n",
    "'''"
   ]
  },
  {
   "cell_type": "code",
   "execution_count": 13,
   "metadata": {},
   "outputs": [
    {
     "name": "stdout",
     "output_type": "stream",
     "text": [
      "Average of the array elements:\n",
      " 0.4865011730496961\n",
      "Standard deviation of the array elements:\n",
      " 0.29378966073718144\n",
      "Variance of the array elements:\n",
      " 0.08631236475606817\n"
     ]
    }
   ],
   "source": [
    "# 9. create a random array with 1000 elements and compute the average, \n",
    "#    variance, standard deviation of the array elements.\n",
    "\n",
    "array = np.random.random(1000)\n",
    "print(\"Average of the array elements:\\n\", np.mean(array))\n",
    "print(\"Standard deviation of the array elements:\\n\",np.std(array))\n",
    "print(\"Variance of the array elements:\\n\",np.var(array))"
   ]
  },
  {
   "cell_type": "code",
   "execution_count": 14,
   "metadata": {},
   "outputs": [
    {
     "data": {
      "text/plain": [
       "'\\nAverage of the array elements:\\nxxxxxxxxx\\nStandard deviation of the array elements:\\nxxxxxxxxx\\nVariance of the array elements:\\nxxxxxxxxx\\n'"
      ]
     },
     "execution_count": 14,
     "metadata": {},
     "output_type": "execute_result"
    }
   ],
   "source": [
    "# Desired Output (random number, different results but the format is below)\n",
    "'''\n",
    "Average of the array elements:\n",
    "xxxxxxxxx\n",
    "Standard deviation of the array elements:\n",
    "xxxxxxxxx\n",
    "Variance of the array elements:\n",
    "xxxxxxxxx\n",
    "'''"
   ]
  },
  {
   "cell_type": "code",
   "execution_count": 15,
   "metadata": {},
   "outputs": [
    {
     "name": "stdout",
     "output_type": "stream",
     "text": [
      "sine: array of angles given in degrees\n",
      " [0.         0.5        0.70710678 0.8660254  1.        ]\n",
      "cosine: array of angles given in degrees\n",
      " [1.00000000e+00 8.66025404e-01 7.07106781e-01 5.00000000e-01\n",
      " 6.12323400e-17]\n",
      "tangent: array of angles given in degrees\n",
      " [0.00000000e+00 5.77350269e-01 1.00000000e+00 1.73205081e+00\n",
      " 1.63312394e+16]\n"
     ]
    }
   ],
   "source": [
    "# 10. compute the trigonometric sine, cosine and tangent array of angles given in degrees.\n",
    "# Sample degree: 0, 30, 45, 60, 90\n",
    "\n",
    "degrees = np.array([0,30,45,60,90])\n",
    "radian = degrees*(np.pi)/180\n",
    "\n",
    "sine = np.sin(radian)\n",
    "print(\"sine: array of angles given in degrees\\n\",sine)\n",
    "cosine = np.cos(radian)\n",
    "print(\"cosine: array of angles given in degrees\\n\",cosine)\n",
    "tangent = np.tan(radian)\n",
    "print(\"tangent: array of angles given in degrees\\n\",tangent)"
   ]
  },
  {
   "cell_type": "code",
   "execution_count": 16,
   "metadata": {},
   "outputs": [
    {
     "data": {
      "text/plain": [
       "'\\nsine: array of angles given in degrees\\n[0.         0.5        0.70710678 0.8660254  1.        ]\\ncosine: array of angles given in degrees\\n[1.00000000e+00 8.66025404e-01 7.07106781e-01 5.00000000e-01\\n 6.12323400e-17]\\ntangent: array of angles given in degrees\\n[0.00000000e+00 5.77350269e-01 1.00000000e+00 1.73205081e+00\\n 1.63312394e+16]\\n'"
      ]
     },
     "execution_count": 16,
     "metadata": {},
     "output_type": "execute_result"
    }
   ],
   "source": [
    "# Desired Output\n",
    "'''\n",
    "sine: array of angles given in degrees\n",
    "[0.         0.5        0.70710678 0.8660254  1.        ]\n",
    "cosine: array of angles given in degrees\n",
    "[1.00000000e+00 8.66025404e-01 7.07106781e-01 5.00000000e-01\n",
    " 6.12323400e-17]\n",
    "tangent: array of angles given in degrees\n",
    "[0.00000000e+00 5.77350269e-01 1.00000000e+00 1.73205081e+00\n",
    " 1.63312394e+16]\n",
    "'''"
   ]
  },
  {
   "cell_type": "code",
   "execution_count": null,
   "metadata": {},
   "outputs": [],
   "source": []
  },
  {
   "cell_type": "code",
   "execution_count": 17,
   "metadata": {},
   "outputs": [],
   "source": [
    "# Pandas Homework: 8 questions, total 50 points."
   ]
  },
  {
   "cell_type": "code",
   "execution_count": 18,
   "metadata": {},
   "outputs": [
    {
     "name": "stdout",
     "output_type": "stream",
     "text": [
      "Original Data Series:\n",
      "0     1\n",
      "1     2\n",
      "2     3\n",
      "3     4\n",
      "4     5\n",
      "5     6\n",
      "6     7\n",
      "7     8\n",
      "8     9\n",
      "9     5\n",
      "10    3\n",
      "dtype: int64\n",
      "Mean of the said Data Series:\n",
      " 4.818181818181818\n",
      "Standard deviation of the said Data Series:\n",
      " 2.405228464604173\n"
     ]
    }
   ],
   "source": [
    "# 1. [5 points]: create the mean and standard deviation of the data of a given Series.\n",
    "import pandas as pd\n",
    "s = pd.Series(data = [1,2,3,4,5,6,7,8,9,5,3])\n",
    "print(\"Original Data Series:\")\n",
    "print(s)\n",
    "mean = np.mean(s)\n",
    "std = np.std(s)\n",
    "print(\"Mean of the said Data Series:\\n\",mean)\n",
    "print(\"Standard deviation of the said Data Series:\\n\",std)"
   ]
  },
  {
   "cell_type": "code",
   "execution_count": 19,
   "metadata": {},
   "outputs": [
    {
     "data": {
      "text/plain": [
       "'\\nOriginal Data Series:\\n0     1\\n1     2\\n2     3\\n3     4\\n4     5\\n5     6\\n6     7\\n7     8\\n8     9\\n9     5\\n10    3\\ndtype: int64\\nMean of the said Data Series:\\n4.81818181818\\nStandard deviation of the said Data Series:\\n2.52262489555\\n'"
      ]
     },
     "execution_count": 19,
     "metadata": {},
     "output_type": "execute_result"
    }
   ],
   "source": [
    "# Desired Output\n",
    "'''\n",
    "Original Data Series:\n",
    "0     1\n",
    "1     2\n",
    "2     3\n",
    "3     4\n",
    "4     5\n",
    "5     6\n",
    "6     7\n",
    "7     8\n",
    "8     9\n",
    "9     5\n",
    "10    3\n",
    "dtype: int64\n",
    "Mean of the said Data Series:\n",
    "4.81818181818\n",
    "Standard deviation of the said Data Series:\n",
    "2.52262489555\n",
    "'''"
   ]
  },
  {
   "cell_type": "code",
   "execution_count": 20,
   "metadata": {},
   "outputs": [
    {
     "name": "stdout",
     "output_type": "stream",
     "text": [
      "Series1:\n",
      "0     2\n",
      "1     4\n",
      "2     6\n",
      "3     8\n",
      "4    10\n",
      "dtype: int64\n",
      "Series2:\n",
      "0    1\n",
      "1    3\n",
      "2    5\n",
      "3    7\n",
      "4    9\n",
      "dtype: int64\n",
      "Compare the elements of the said Series:\n",
      "Equals:\n",
      "0    False\n",
      "1    False\n",
      "2    False\n",
      "3    False\n",
      "4    False\n",
      "dtype: bool\n",
      "Greater than:\n",
      "0    True\n",
      "1    True\n",
      "2    True\n",
      "3    True\n",
      "4    True\n",
      "dtype: bool\n",
      "Less than:\n",
      "0    False\n",
      "1    False\n",
      "2    False\n",
      "3    False\n",
      "4    False\n",
      "dtype: bool\n"
     ]
    }
   ],
   "source": [
    "# 2. [5 points]: compare the elements of the two Pandas Series.\n",
    "# Sample Series: [2, 4, 6, 8, 10], [1, 3, 5, 7, 9]\n",
    "print(\"Series1:\")\n",
    "Series1 = pd.Series(data = [2,4,6,8,10])\n",
    "print(Series1)\n",
    "print(\"Series2:\")\n",
    "Series2 = pd.Series(data = [1,3,5,7,9])\n",
    "print(Series2)\n",
    "\n",
    "print(\"Compare the elements of the said Series:\")\n",
    "\n",
    "print(\"Equals:\")\n",
    "Equals = pd.Series(data = [Series1[0]==Series2[0],\n",
    "                           Series1[1]==Series2[1],\n",
    "                           Series1[2]==Series2[2],\n",
    "                           Series1[3]==Series2[3],\n",
    "                           Series1[4]==Series2[4]])\n",
    "print(Equals)\n",
    "\n",
    "print(\"Greater than:\")\n",
    "Greater = pd.Series(data = [Series1[0]>Series2[0],\n",
    "                            Series1[1]>Series2[1],\n",
    "                            Series1[2]>Series2[2],\n",
    "                            Series1[3]>Series2[3],\n",
    "                            Series1[4]>Series2[4]])\n",
    "print(Greater)\n",
    "\n",
    "print(\"Less than:\")\n",
    "Less = pd.Series(data = [Series1[0]<Series2[0],\n",
    "                         Series1[1]<Series2[1],\n",
    "                         Series1[2]<Series2[2],\n",
    "                         Series1[3]<Series2[3],\n",
    "                         Series1[4]<Series2[4]])\n",
    "print(Less)"
   ]
  },
  {
   "cell_type": "code",
   "execution_count": 21,
   "metadata": {},
   "outputs": [
    {
     "data": {
      "text/plain": [
       "'\\nSeries1:\\n0     2\\n1     4\\n2     6\\n3     8\\n4    10\\ndtype: int64\\nSeries2:\\n0     1\\n1     3\\n2     5\\n3     7\\n4    10\\ndtype: int64\\nCompare the elements of the said Series:\\nEquals:\\n0    False\\n1    False\\n2    False\\n3    False\\n4     True\\ndtype: bool\\nGreater than:\\n0     True\\n1     True\\n2     True\\n3     True\\n4    False\\ndtype: bool\\nLess than:\\n0    False\\n1    False\\n2    False\\n3    False\\n4    False\\ndtype: bool\\n'"
      ]
     },
     "execution_count": 21,
     "metadata": {},
     "output_type": "execute_result"
    }
   ],
   "source": [
    "# Desired Output\n",
    "'''\n",
    "Series1:\n",
    "0     2\n",
    "1     4\n",
    "2     6\n",
    "3     8\n",
    "4    10\n",
    "dtype: int64\n",
    "Series2:\n",
    "0     1\n",
    "1     3\n",
    "2     5\n",
    "3     7\n",
    "4    10\n",
    "dtype: int64\n",
    "Compare the elements of the said Series:\n",
    "Equals:\n",
    "0    False\n",
    "1    False\n",
    "2    False\n",
    "3    False\n",
    "4     True\n",
    "dtype: bool\n",
    "Greater than:\n",
    "0     True\n",
    "1     True\n",
    "2     True\n",
    "3     True\n",
    "4    False\n",
    "dtype: bool\n",
    "Less than:\n",
    "0    False\n",
    "1    False\n",
    "2    False\n",
    "3    False\n",
    "4    False\n",
    "dtype: bool\n",
    "'''"
   ]
  },
  {
   "cell_type": "code",
   "execution_count": 22,
   "metadata": {},
   "outputs": [
    {
     "name": "stdout",
     "output_type": "stream",
     "text": [
      "NumPy array:\n",
      "[10 20 30 40 50]\n",
      "Converted Pandas series:\n",
      "0    10\n",
      "1    20\n",
      "2    30\n",
      "3    40\n",
      "4    50\n",
      "dtype: int64\n",
      "Original dictionary:\n",
      "{'a': 100, 'b': 200, 'c': 300, 'd': 400, 'e': 800}\n",
      "Converted series:\n",
      "a    100\n",
      "b    200\n",
      "c    300\n",
      "d    400\n",
      "e    800\n",
      "dtype: int64\n"
     ]
    }
   ],
   "source": [
    "# 3. [5 points]: convert a NumPy array and a dictionary to Pandas series.\n",
    "# Sample NumPy array: d1 = [10, 20, 30, 40, 50]\n",
    "# Sample dictionary: d1 = {'a': 100, 'b': 200, 'c':300, 'd':400, 'e':800}  \n",
    "\n",
    "print(\"NumPy array:\")\n",
    "NumPy_array = np.array([10, 20, 30, 40, 50])\n",
    "print(NumPy_array)\n",
    "print(\"Converted Pandas series:\")\n",
    "print(pd.Series(NumPy_array))\n",
    "\n",
    "print(\"Original dictionary:\")\n",
    "dictionary = {'a': 100, 'b': 200, 'c':300, 'd':400, 'e':800}\n",
    "print(dictionary)\n",
    "print(\"Converted series:\")\n",
    "print(pd.Series(dictionary))\n"
   ]
  },
  {
   "cell_type": "code",
   "execution_count": 23,
   "metadata": {},
   "outputs": [
    {
     "data": {
      "text/plain": [
       "\"\\nNumPy array:\\n[10 20 30 40 50]\\nConverted Pandas series:\\n0    10\\n1    20\\n2    30\\n3    40\\n4    50\\ndtype: int32\\nOriginal dictionary:\\n{'a': 100, 'b': 200, 'c': 300, 'd': 400, 'e': 800}\\nConverted series:\\na    100\\nb    200\\nc    300\\nd    400\\ne    800\\ndtype: int64\\n\""
      ]
     },
     "execution_count": 23,
     "metadata": {},
     "output_type": "execute_result"
    }
   ],
   "source": [
    "# Desired Output\n",
    "'''\n",
    "NumPy array:\n",
    "[10 20 30 40 50]\n",
    "Converted Pandas series:\n",
    "0    10\n",
    "1    20\n",
    "2    30\n",
    "3    40\n",
    "4    50\n",
    "dtype: int32\n",
    "Original dictionary:\n",
    "{'a': 100, 'b': 200, 'c': 300, 'd': 400, 'e': 800}\n",
    "Converted series:\n",
    "a    100\n",
    "b    200\n",
    "c    300\n",
    "d    400\n",
    "e    800\n",
    "dtype: int64\n",
    "'''"
   ]
  },
  {
   "cell_type": "code",
   "execution_count": 24,
   "metadata": {},
   "outputs": [
    {
     "name": "stdout",
     "output_type": "stream",
     "text": [
      "Original Output\n",
      "   col1  col2  col3\n",
      "0     1     4     7\n",
      "1     2     5     5\n",
      "2     3     6     8\n",
      "3     4     9    12\n",
      "4     7     5     1\n",
      "5    11     0    11\n",
      "\n",
      "1st column as a Series:\n"
     ]
    },
    {
     "data": {
      "text/plain": [
       "0     1\n",
       "1     2\n",
       "2     3\n",
       "3     4\n",
       "4     7\n",
       "5    11\n",
       "Name: col1, dtype: int64"
      ]
     },
     "execution_count": 24,
     "metadata": {},
     "output_type": "execute_result"
    }
   ],
   "source": [
    "# 4.[5 points]: convert the first column of a DataFrame as a Series.\n",
    "'''\n",
    "Sample data:\n",
    "    col1  col2  col3\n",
    "0     1     4     7\n",
    "1     2     5     5\n",
    "2     3     6     8\n",
    "3     4     9    12\n",
    "4     7     5     1\n",
    "5    11     0    11\n",
    "'''\n",
    "print('Original Output')\n",
    "df = pd.DataFrame([[1, 4, 7],\n",
    "                   [2, 5, 5],\n",
    "                   [3, 6, 8],\n",
    "                   [4, 9,12],\n",
    "                   [7, 5, 1],\n",
    "                   [11,0,11]],\n",
    "                columns=['col1','col2','col3'])\n",
    "print(df) \n",
    "\n",
    "print('\\n1st column as a Series:')\n",
    "df['col1']\n"
   ]
  },
  {
   "cell_type": "code",
   "execution_count": 25,
   "metadata": {},
   "outputs": [
    {
     "data": {
      "text/plain": [
       "\"\\nOriginal DataFrame\\n   col1  col2  col3\\n0     1     4     7\\n1     2     5     5\\n2     3     6     8\\n3     4     9    12\\n4     7     5     1\\n5    11     0    11\\n\\n1st column as a Series:\\n0     1\\n1     2\\n2     3\\n3     4\\n4     7\\n5    11\\nName: col1, dtype: int64\\n<class 'pandas.core.series.Series'>\\n\""
      ]
     },
     "execution_count": 25,
     "metadata": {},
     "output_type": "execute_result"
    }
   ],
   "source": [
    "# Desired \n",
    "'''\n",
    "Original DataFrame\n",
    "   col1  col2  col3\n",
    "0     1     4     7\n",
    "1     2     5     5\n",
    "2     3     6     8\n",
    "3     4     9    12\n",
    "4     7     5     1\n",
    "5    11     0    11\n",
    "\n",
    "1st column as a Series:\n",
    "0     1\n",
    "1     2\n",
    "2     3\n",
    "3     4\n",
    "4     7\n",
    "5    11\n",
    "Name: col1, dtype: int64\n",
    "<class 'pandas.core.series.Series'>\n",
    "'''"
   ]
  },
  {
   "cell_type": "code",
   "execution_count": 26,
   "metadata": {},
   "outputs": [
    {
     "name": "stdout",
     "output_type": "stream",
     "text": [
      "Original DataFrame\n",
      "   attempts       name score  qualify\n",
      "0         1  Anastasia   yes     12.5\n",
      "1         3       Dima    no      9.0\n",
      "2         2  Katherine   yes     16.5\n",
      "3         3      James    no      NaN\n",
      "4         2      Emily    no      9.0\n",
      "5         3    Michael   yes     20.0\n",
      "6         1    Matthew   yes     14.5\n",
      "7         1      Laura    no      NaN\n",
      "8         2      Kevin    no      8.0\n",
      "9         1      Jonas   yes     19.0\n",
      "\n",
      "New DataFrame replacing all NaN with 0:\n",
      "   attempts       name score  qualify\n",
      "0         1  Anastasia   yes     12.5\n",
      "1         3       Dima    no      9.0\n",
      "2         2  Katherine   yes     16.5\n",
      "3         3      James    no      0.0\n",
      "4         2      Emily    no      9.0\n",
      "5         3    Michael   yes     20.0\n",
      "6         1    Matthew   yes     14.5\n",
      "7         1      Laura    no      0.0\n",
      "8         2      Kevin    no      8.0\n",
      "9         1      Jonas   yes     19.0\n"
     ]
    }
   ],
   "source": [
    "# 5. [5 points]: replace all the NaN values with Zero's in a column of a dataframe.\n",
    "'''\n",
    "Sample data:\n",
    "Original DataFrame\n",
    "attempts name qualify score\n",
    "0 1 Anastasia yes 12.5\n",
    "1 3 Dima no 9.0\n",
    "2 2 Katherine yes 16.5\n",
    "3 3 James no NaN\n",
    "4 2 Emily no 9.0\n",
    "5 3 Michael yes 20.0\n",
    "6 1 Matthew yes 14.5\n",
    "7 1 Laura no NaN\n",
    "8 2 Kevin no 8.0\n",
    "9 1 Jonas yes 19.0\n",
    "New DataFrame replacing all NaN with 0:\n",
    "attempts name qualify score\n",
    "0 1 Anastasia yes 12.5\n",
    "1 3 Dima no 9.0\n",
    "2 2 Katherine yes 16.5\n",
    "3 3 James no 0.0\n",
    "4 2 Emily no 9.0\n",
    "5 3 Michael yes 20.0\n",
    "6 1 Matthew yes 14.5\n",
    "7 1 Laura no 0.0\n",
    "8 2 Kevin no 8.0\n",
    "9 1 Jonas yes 19.0\n",
    "'''\n",
    "print('Original DataFrame')\n",
    "df = pd.DataFrame([[1, 'Anastasia', 'yes', 12.5],\n",
    "                   [3, 'Dima'     , 'no' ,  9.0],\n",
    "                   [2, 'Katherine', 'yes', 16.5],\n",
    "                   [3, 'James'    , 'no' , None],\n",
    "                   [2, 'Emily'    , 'no' ,  9.0],\n",
    "                   [3, 'Michael'  , 'yes', 20.0],\n",
    "                   [1, 'Matthew'  , 'yes', 14.5],\n",
    "                   [1, 'Laura'    , 'no' , None],\n",
    "                   [2, 'Kevin'    , 'no' ,  8.0],\n",
    "                   [1, 'Jonas'    , 'yes', 19.0]],\n",
    "                columns=['attempts','name','score','qualify'])\n",
    "print(df)\n",
    "\n",
    "print('\\nNew DataFrame replacing all NaN with 0:')\n",
    "print(df.fillna(0))"
   ]
  },
  {
   "cell_type": "code",
   "execution_count": 27,
   "metadata": {},
   "outputs": [
    {
     "data": {
      "text/plain": [
       "'\\nOriginal DataFrame\\n        name  score  attempts qualify\\n0  Anastasia   12.5         1     yes\\n1       Dima    9.0         3      no\\n2  Katherine   16.5         2     yes\\n3      James    NaN         3      no\\n4      Emily    9.0         2      no\\n5    Michael   20.0         3     yes\\n6    Matthew   14.5         1     yes\\n7      Laura    NaN         1      no\\n8      Kevin    8.0         2      no\\n9      Jonas   19.0         1     yes\\n\\nNew DataFrame replacing all NaN with 0:\\n        name  score  attempts qualify\\n0  Anastasia   12.5         1     yes\\n1       Dima    9.0         3      no\\n2  Katherine   16.5         2     yes\\n3      James    0.0         3      no\\n4      Emily    9.0         2      no\\n5    Michael   20.0         3     yes\\n6    Matthew   14.5         1     yes\\n7      Laura    0.0         1      no\\n8      Kevin    8.0         2      no\\n9      Jonas   19.0         1     yes\\n'"
      ]
     },
     "execution_count": 27,
     "metadata": {},
     "output_type": "execute_result"
    }
   ],
   "source": [
    "# Desired Output\n",
    "'''\n",
    "Original DataFrame\n",
    "        name  score  attempts qualify\n",
    "0  Anastasia   12.5         1     yes\n",
    "1       Dima    9.0         3      no\n",
    "2  Katherine   16.5         2     yes\n",
    "3      James    NaN         3      no\n",
    "4      Emily    9.0         2      no\n",
    "5    Michael   20.0         3     yes\n",
    "6    Matthew   14.5         1     yes\n",
    "7      Laura    NaN         1      no\n",
    "8      Kevin    8.0         2      no\n",
    "9      Jonas   19.0         1     yes\n",
    "\n",
    "New DataFrame replacing all NaN with 0:\n",
    "        name  score  attempts qualify\n",
    "0  Anastasia   12.5         1     yes\n",
    "1       Dima    9.0         3      no\n",
    "2  Katherine   16.5         2     yes\n",
    "3      James    0.0         3      no\n",
    "4      Emily    9.0         2      no\n",
    "5    Michael   20.0         3     yes\n",
    "6    Matthew   14.5         1     yes\n",
    "7      Laura    0.0         1      no\n",
    "8      Kevin    8.0         2      no\n",
    "9      Jonas   19.0         1     yes\n",
    "'''"
   ]
  },
  {
   "cell_type": "code",
   "execution_count": 28,
   "metadata": {},
   "outputs": [
    {
     "name": "stdout",
     "output_type": "stream",
     "text": [
      "Original Data Series:\n",
      "0       100\n",
      "1       200\n",
      "2    Python\n",
      "3    100.12\n",
      "4       400\n",
      "dtype: object\n",
      "0       100\n",
      "1       200\n",
      "3    100.12\n",
      "4       400\n",
      "2    Python\n",
      "dtype: object\n",
      "Data Series after adding some data:\n"
     ]
    },
    {
     "data": {
      "text/plain": [
       "0       100\n",
       "1       200\n",
       "2    Python\n",
       "3    100.12\n",
       "4       400\n",
       "0       500\n",
       "1       php\n",
       "dtype: object"
      ]
     },
     "execution_count": 28,
     "metadata": {},
     "output_type": "execute_result"
    }
   ],
   "source": [
    "# 6. [5 points]: sort a given Series; add some data ['500', 'php'] to an existing Series;\n",
    "'''\n",
    "Original Data Series:\n",
    "0       100\n",
    "1       200\n",
    "2    python\n",
    "3    300.12\n",
    "4       400\n",
    "'''\n",
    "print('Original Data Series:')\n",
    "s = pd.Series([100,200,'Python',100.12,400])\n",
    "print(s)\n",
    "\n",
    "s_row2 = s[2]\n",
    "del s[2]\n",
    "s[2] = s_row2\n",
    "print(s)            #switch\n",
    "\n",
    "print('Data Series after adding some data:')\n",
    "s = pd.Series([100,200,'Python',100.12,400])\n",
    "s_add = pd.Series([500,'php'])\n",
    "s.append(s_add)"
   ]
  },
  {
   "cell_type": "code",
   "execution_count": 29,
   "metadata": {},
   "outputs": [
    {
     "data": {
      "text/plain": [
       "'\\nOriginal Data Series:\\n0       100\\n1       200\\n2    python\\n3    300.12\\n4       400\\ndtype: object\\n0       100\\n1       200\\n3    300.12\\n4       400\\n2    python\\ndtype: object\\n\\nData Series after adding some data:\\n0       100\\n1       200\\n2    python\\n3    300.12\\n4       400\\n0       500\\n1       php\\ndtype: object\\n'"
      ]
     },
     "execution_count": 29,
     "metadata": {},
     "output_type": "execute_result"
    }
   ],
   "source": [
    "# Desired Output\n",
    "'''\n",
    "Original Data Series:\n",
    "0       100\n",
    "1       200\n",
    "2    python\n",
    "3    300.12\n",
    "4       400\n",
    "dtype: object\n",
    "0       100\n",
    "1       200\n",
    "3    300.12\n",
    "4       400\n",
    "2    python\n",
    "dtype: object\n",
    "\n",
    "Data Series after adding some data:\n",
    "0       100\n",
    "1       200\n",
    "2    python\n",
    "3    300.12\n",
    "4       400\n",
    "0       500\n",
    "1       php\n",
    "dtype: object\n",
    "'''"
   ]
  },
  {
   "cell_type": "code",
   "execution_count": 30,
   "metadata": {},
   "outputs": [
    {
     "name": "stdout",
     "output_type": "stream",
     "text": [
      "Original DataFrame\n",
      "    col1  col2  col3\n",
      "0     1     4     7\n",
      "1     2     5     5\n",
      "2     3     6     8\n",
      "3     4     9    12\n",
      "4     7     5     1\n",
      "5    11     0    11\n",
      "\n",
      "Number of columns:\n",
      " 3\n",
      "\n",
      "All columns except 'col3':\n",
      "    col1  col2\n",
      "0     1     4\n",
      "1     2     5\n",
      "2     3     6\n",
      "3     4     9\n",
      "4     7     5\n",
      "5    11     0\n",
      "\n",
      "After removing first 3 rows of the DataFrame:\n",
      "    col1  col2  col3\n",
      "3     4     9    12\n",
      "4     7     5     1\n",
      "5    11     0    11\n",
      "\n",
      "After removing last 3 rows of the DataFrame:\n",
      "    col1  col2  col3\n",
      "0     1     4     7\n",
      "1     2     5     5\n",
      "2     3     6     8\n"
     ]
    }
   ],
   "source": [
    "# 7. [10 points]: count number of columns of the DataFrame; \n",
    "# select all columns, except one given column 'col3'; \n",
    "# remove first 3 rows of the DataFrame; remove last 3 rows of the DataFrame;\n",
    "\n",
    "'''\n",
    "Sample Data:\n",
    "    col1  col2  col3\n",
    "0     1     4     7\n",
    "1     2     5     5\n",
    "2     3     6     8\n",
    "3     4     9    12\n",
    "4     7     5     1\n",
    "5    11     0    11    \n",
    "'''\n",
    "df = pd.DataFrame([[1, 4, 7],\n",
    "                   [2, 5, 5],\n",
    "                   [3, 6, 8],\n",
    "                   [4, 9,12],\n",
    "                   [7, 5, 1],\n",
    "                   [11,0,11]],\n",
    "                columns=['col1','col2','col3'])\n",
    "count_columns = df.shape[1]\n",
    "print(\"Original DataFrame\\n\",df)\n",
    "print(\"\\nNumber of columns:\\n\",count_columns)\n",
    "\n",
    "df1 = df.drop(['col3'],axis=1)\n",
    "print(\"\\nAll columns except 'col3':\\n\",df1)\n",
    "\n",
    "df2 = df.drop([0,1,2])\n",
    "print(\"\\nAfter removing first 3 rows of the DataFrame:\\n\",df2)\n",
    "\n",
    "df3 = df.drop([3,4,5])\n",
    "print(\"\\nAfter removing last 3 rows of the DataFrame:\\n\",df3)"
   ]
  },
  {
   "cell_type": "code",
   "execution_count": 31,
   "metadata": {},
   "outputs": [
    {
     "data": {
      "text/plain": [
       "\"\\nOriginal DataFrame\\n   col1  col2  col3\\n0     1     4     7\\n1     2     5     5\\n2     3     6     8\\n3     4     9    12\\n4     7     5     1\\n5    11     0    11\\n\\nNumber of columns:\\n3\\n\\nAll columns except 'col3':\\n   col1  col2\\n0     1     4\\n1     2     5\\n2     3     6\\n3     4     9\\n4     7     5\\n5    11     0\\n\\nAfter removing first 3 rows of the DataFrame:\\n   col1  col2  col3\\n3     4     9    12\\n4     7     5     1\\n5    11     0    11\\n\\nAfter removing last 3 rows of the DataFrame:\\n   col1  col2  col3\\n0     1     4     7\\n1     2     5     5\\n2     3     6     8\\n\""
      ]
     },
     "execution_count": 31,
     "metadata": {},
     "output_type": "execute_result"
    }
   ],
   "source": [
    "# Desired Output:\n",
    "'''\n",
    "Original DataFrame\n",
    "   col1  col2  col3\n",
    "0     1     4     7\n",
    "1     2     5     5\n",
    "2     3     6     8\n",
    "3     4     9    12\n",
    "4     7     5     1\n",
    "5    11     0    11\n",
    "\n",
    "Number of columns:\n",
    "3\n",
    "\n",
    "All columns except 'col3':\n",
    "   col1  col2\n",
    "0     1     4\n",
    "1     2     5\n",
    "2     3     6\n",
    "3     4     9\n",
    "4     7     5\n",
    "5    11     0\n",
    "\n",
    "After removing first 3 rows of the DataFrame:\n",
    "   col1  col2  col3\n",
    "3     4     9    12\n",
    "4     7     5     1\n",
    "5    11     0    11\n",
    "\n",
    "After removing last 3 rows of the DataFrame:\n",
    "   col1  col2  col3\n",
    "0     1     4     7\n",
    "1     2     5     5\n",
    "2     3     6     8\n",
    "'''"
   ]
  },
  {
   "cell_type": "code",
   "execution_count": 32,
   "metadata": {},
   "outputs": [
    {
     "name": "stdout",
     "output_type": "stream",
     "text": [
      "data types:\n",
      " adult                       bool\n",
      "belongs_to_collection     object\n",
      "budget                     int64\n",
      "genres                    object\n",
      "homepage                  object\n",
      "id                         int64\n",
      "imdb_id                   object\n",
      "original_language         object\n",
      "original_title            object\n",
      "overview                  object\n",
      "popularity               float64\n",
      "poster_path               object\n",
      "production_companies      object\n",
      "production_countries      object\n",
      "release_date              object\n",
      "revenue                    int64\n",
      "runtime                  float64\n",
      "spoken_languages          object\n",
      "status                    object\n",
      "tagline                   object\n",
      "title                     object\n",
      "video                       bool\n",
      "vote_average             float64\n",
      "vote_count                 int64\n",
      "dtype: object\n",
      "\n",
      "\n",
      "memory usage:\n",
      " Index                     80\n",
      "adult                     50\n",
      "belongs_to_collection    400\n",
      "budget                   400\n",
      "genres                   400\n",
      "homepage                 400\n",
      "id                       400\n",
      "imdb_id                  400\n",
      "original_language        400\n",
      "original_title           400\n",
      "overview                 400\n",
      "popularity               400\n",
      "poster_path              400\n",
      "production_companies     400\n",
      "production_countries     400\n",
      "release_date             400\n",
      "revenue                  400\n",
      "runtime                  400\n",
      "spoken_languages         400\n",
      "status                   400\n",
      "tagline                  400\n",
      "title                    400\n",
      "video                     50\n",
      "vote_average             400\n",
      "vote_count               400\n",
      "dtype: int64\n",
      "\n",
      "\n",
      "the number of rows:\n",
      " 50\n",
      "\n",
      "\n",
      "the number of columns:\n",
      " 24\n",
      "\n",
      "\n",
      "the detials of the fifth movie:\n",
      " adult                                                                False\n",
      "belongs_to_collection    {'id': 96871, 'name': 'Father of the Bride Col...\n",
      "budget                                                                   0\n",
      "genres                                      [{'id': 35, 'name': 'Comedy'}]\n",
      "homepage                                                               NaN\n",
      "id                                                                   11862\n",
      "imdb_id                                                          tt0113041\n",
      "original_language                                                       en\n",
      "original_title                                 Father of the Bride Part II\n",
      "overview                 Just when George Banks has recovered from his ...\n",
      "popularity                                                         8.38752\n",
      "poster_path                               /e64sOI48hQXyru7naBFyssKFxVd.jpg\n",
      "production_companies     [{'name': 'Sandollar Productions', 'id': 5842}...\n",
      "production_countries     [{'iso_3166_1': 'US', 'name': 'United States o...\n",
      "release_date                                                    1995-02-10\n",
      "revenue                                                           76578911\n",
      "runtime                                                                106\n",
      "spoken_languages                  [{'iso_639_1': 'en', 'name': 'English'}]\n",
      "status                                                            Released\n",
      "tagline                  Just When His World Is Back To Normal... He's ...\n",
      "title                                          Father of the Bride Part II\n",
      "video                                                                False\n",
      "vote_average                                                           5.7\n",
      "vote_count                                                             173\n",
      "Name: 4, dtype: object\n",
      "\n",
      "\n",
      "movies that longer than 30mins and shorter than 360mins\n",
      "\n",
      "                            title  runtime\n",
      "0                       Toy Story     81.0\n",
      "0                         Jumanji    104.0\n",
      "0                Grumpier Old Men    101.0\n",
      "0               Waiting to Exhale    127.0\n",
      "0     Father of the Bride Part II    106.0\n",
      "0                            Heat    170.0\n",
      "0                         Sabrina    127.0\n",
      "0                    Tom and Huck     97.0\n",
      "0                    Sudden Death    106.0\n",
      "0                       GoldenEye    130.0\n",
      "0          The American President    106.0\n",
      "0     Dracula: Dead and Loving It     88.0\n",
      "0                           Balto     78.0\n",
      "0                           Nixon    192.0\n",
      "0                Cutthroat Island    119.0\n",
      "0                          Casino    178.0\n",
      "0           Sense and Sensibility    136.0\n",
      "0                      Four Rooms     98.0\n",
      "0  Ace Ventura: When Nature Calls     90.0\n",
      "0                     Money Train    103.0\n",
      "0                      Get Shorty    105.0\n",
      "0                         Copycat    124.0\n",
      "0                       Assassins    132.0\n",
      "0                          Powder    111.0\n",
      "0               Leaving Las Vegas    112.0\n",
      "0                         Othello    123.0\n",
      "0                    Now and Then    100.0\n",
      "0                      Persuasion    104.0\n",
      "0       The City of Lost Children    108.0\n",
      "0                  Shanghai Triad    108.0\n",
      "0                 Dangerous Minds     99.0\n",
      "0                  Twelve Monkeys    129.0\n",
      "0                Wings of Courage     50.0\n",
      "0                            Babe     89.0\n",
      "0                      Carrington    121.0\n",
      "0                Dead Man Walking    122.0\n",
      "0          Across the Sea of Time     51.0\n",
      "0                    It Takes Two    101.0\n",
      "0                        Clueless     97.0\n",
      "0        Cry, the Beloved Country    106.0\n",
      "0                     Richard III    104.0\n",
      "0                 Dead Presidents    119.0\n",
      "0                     Restoration    117.0\n",
      "0                   Mortal Kombat    101.0\n",
      "0                      To Die For    106.0\n",
      "0   How To Make An American Quilt    116.0\n",
      "0                           Se7en    127.0\n",
      "0                      Pocahontas     81.0\n",
      "0           When Night Is Falling     96.0\n",
      "0              The Usual Suspects    106.0\n"
     ]
    }
   ],
   "source": [
    "# 8. [10 points]: \n",
    "'''\n",
    "1. read data from movies.csv file to Pandas\n",
    "2. get the information of the DataFrame (movies.csv file) including data types and memory usage.\n",
    "3. count the number of rows and columns of the DataFrame \n",
    "4. get the details of fifth movie of the DataFrame.\n",
    "5. display the movies (title, runtime)longer than 30 minutes and shorter than 360 minutes.\n",
    "'''\n",
    "\n",
    "data = pd.read_csv('movies.csv')\n",
    "print('data types:\\n',data.dtypes)\n",
    "print('\\n\\nmemory usage:\\n',data.memory_usage())\n",
    "print('\\n\\nthe number of rows:\\n',data.shape[0])\n",
    "print('\\n\\nthe number of columns:\\n',data.shape[1])\n",
    "print('\\n\\nthe detials of the fifth movie:\\n',data.loc[4])\n",
    "print('\\n\\nmovies that longer than 30mins and shorter than 360mins\\n')\n",
    "new_df = pd.DataFrame()\n",
    "for i in range(50):\n",
    "    if (30<(data.loc[i])['runtime']<360):\n",
    "        this_movie = pd.DataFrame([[(data.loc[i])['title'],(data.loc[i])['runtime']],],columns=('title','runtime'))\n",
    "        new_df = pd.concat([new_df,this_movie])\n",
    "print(new_df)"
   ]
  },
  {
   "cell_type": "code",
   "execution_count": null,
   "metadata": {},
   "outputs": [],
   "source": []
  },
  {
   "cell_type": "code",
   "execution_count": 33,
   "metadata": {},
   "outputs": [],
   "source": [
    "# Matplotlib: 4 questions, total 20 points."
   ]
  },
  {
   "cell_type": "code",
   "execution_count": 34,
   "metadata": {},
   "outputs": [
    {
     "data": {
      "image/png": "[encoded data removed]",
      "text/plain": [
       "<Figure size 432x288 with 1 Axes>"
      ]
     },
     "metadata": {
      "needs_background": "light"
     },
     "output_type": "display_data"
    }
   ],
   "source": [
    "# 1. [5 points]: plot several lines with different format styles in one command using arrays.\n",
    "# Sampled time at 200ms intervals\n",
    "# t = np.arange(0., 5., 0.2)\n",
    "# green dashes, blue squares and red triangles to plot t, t**2, t**3.\n",
    "\n",
    "import matplotlib as mpl\n",
    "import matplotlib.pyplot as plt\n",
    "plt.style.use('classic')\n",
    "%matplotlib inline\n",
    "\n",
    "import numpy as np\n",
    "t = np.arange(0., 5., 0.2) \n",
    "\n",
    "fig = plt.figure()\n",
    "plt.plot(t, t   , '--g')\n",
    "plt.plot(t, t**2, 'sb')\n",
    "plt.plot(t, t**3, '^r');\n"
   ]
  },
  {
   "cell_type": "code",
   "execution_count": 35,
   "metadata": {},
   "outputs": [
    {
     "data": {
      "image/png": "[encoded data removed]",
      "text/plain": [
       "<Figure size 432x288 with 1 Axes>"
      ]
     },
     "metadata": {
      "needs_background": "light"
     },
     "output_type": "display_data"
    }
   ],
   "source": [
    "# 2. [5 points]: plot two or more lines with different styles\n",
    "# line 1 points\n",
    "# x1 = [10,20,30]\n",
    "# y1 = [20,40,10]\n",
    "# line 2 points\n",
    "# x2 = [10,20,30]\n",
    "# y2 = [40,10,30]\n",
    "# Set the x and y axes labels as 'x' and 'y';\n",
    "# Plot lines and/or markers to the Axes: blue,red; dotted, dashed;\n",
    "# Set a title: \"Plot with two or more lines with different styles\";\n",
    "# show a legend on the plot as 'line1-dotted', 'line2-dashed'.\n",
    "\n",
    "\n",
    "x1_list = [10,20,30]\n",
    "y1_list = [20,40,10]\n",
    "x2_list = [10,20,30]\n",
    "y2_list = [40,10,30]\n",
    "\n",
    "plt.title('Plot with two or more lines with different styles')\n",
    "ax = plt.gca()\n",
    "\n",
    "ax.set_xlabel('x')\n",
    "ax.set_ylabel('y')\n",
    "\n",
    "\n",
    "plt.plot(x1_list, y1_list, color='b', linestyle='dotted', label='line1-dotted')\n",
    "plt.plot(x2_list, y2_list, color='r', linestyle='dashed', label='line2-dashed')\n",
    "\n",
    "plt.legend();\n",
    "\n"
   ]
  },
  {
   "cell_type": "code",
   "execution_count": 36,
   "metadata": {},
   "outputs": [
    {
     "data": {
      "image/png": "[encoded data removed]",
      "text/plain": [
       "<Figure size 432x288 with 2 Axes>"
      ]
     },
     "metadata": {
      "needs_background": "light"
     },
     "output_type": "display_data"
    }
   ],
   "source": [
    "# 3. [5 points]: draw a scatter plot with empty circles taking a 50-point random distribution in X and Y \n",
    "#  any color for face and edge, and plotted against each other.\n",
    "\n",
    "rng = np.random.RandomState(0)\n",
    "x = rng.randn(50)\n",
    "y = rng.randn(50)\n",
    "plt.subplot(1, 2, 1) \n",
    "plt.scatter(x, y, marker='o',color='r',edgecolors='k')\n",
    "plt.subplot(1, 2, 2)\n",
    "plt.scatter(x, y, marker='o',color='w',edgecolors='b');\n",
    "\n"
   ]
  },
  {
   "cell_type": "code",
   "execution_count": 37,
   "metadata": {},
   "outputs": [
    {
     "data": {
      "image/png": "[encoded data removed]",
      "text/plain": [
       "<Figure size 720x720 with 1 Axes>"
      ]
     },
     "metadata": {},
     "output_type": "display_data"
    }
   ],
   "source": [
    "# 4. [5 points]:  create bar plot from a DataFrame.\n",
    "'''\n",
    "Sample Data Frame:\n",
    "  a b c d e \n",
    "2 4,8,5,7,6\n",
    "4 2,3,4,2,6\n",
    "6 4,7,4,7,8\n",
    "8 2,6,4,8,6\n",
    "10 2,4,3,3,2\n",
    "'''\n",
    "index = pd.MultiIndex.from_product([[2,4,6,8,10],['a','b','c','d','e']],\n",
    "                                   names=['numbers','letters'])\n",
    "\n",
    "columns = pd.MultiIndex.from_product([['data']],names=['data'])\n",
    "\n",
    "data = np.array([4,8,5,7,6,2,3,4,2,6,4,7,4,7,8,2,6,4,8,6,2,4,3,3,2])\n",
    "data.transpose()\n",
    "df = pd.DataFrame(data, index = index, columns=columns)\n",
    "\n",
    "\n",
    "\n",
    "import numpy as np\n",
    "import pandas as pd\n",
    "from mpl_toolkits.mplot3d import axes3d\n",
    "import matplotlib.pyplot as plt\n",
    "\n",
    "# Set plotting style\n",
    "plt.style.use('seaborn-white')\n",
    "\n",
    "L = []\n",
    "for i, group in df.groupby(level=1)['data']:\n",
    "    L.append(group.values)\n",
    "z = np.hstack(L).ravel()\n",
    "\n",
    "xlabels = df.index.get_level_values('numbers').unique()\n",
    "ylabels = df.index.get_level_values('letters').unique()\n",
    "x = np.arange(xlabels.shape[0])\n",
    "y = np.arange(ylabels.shape[0])\n",
    "\n",
    "x_M, y_M = np.meshgrid(x, y, copy=False)\n",
    "\n",
    "fig = plt.figure(figsize=(10, 10))\n",
    "ax = fig.add_subplot(111, projection='3d')\n",
    "\n",
    "# Making the intervals in the axes match with their respective entries\n",
    "ax.w_xaxis.set_ticks(x + 0.5/2.)\n",
    "ax.w_yaxis.set_ticks(y + 0.5/2.)\n",
    "\n",
    "# Renaming the ticks as they were before\n",
    "ax.w_xaxis.set_ticklabels(xlabels)\n",
    "ax.w_yaxis.set_ticklabels(ylabels)\n",
    "\n",
    "# Labeling the 3 dimensions\n",
    "ax.set_xlabel('numbers')\n",
    "ax.set_ylabel('letters')\n",
    "ax.set_zlabel('data')\n",
    "\n",
    "# Choosing the range of values to be extended in the set colormap\n",
    "values = np.linspace(0.2, 1., x_M.ravel().shape[0])\n",
    "\n",
    "# Selecting an appropriate colormap\n",
    "colors = plt.cm.Spectral(values)\n",
    "ax.bar3d(x_M.ravel(), y_M.ravel(), z*0, dx=0.5, dy=0.5, dz=z, color=colors)\n",
    "plt.show()"
   ]
  },
  {
   "cell_type": "code",
   "execution_count": null,
   "metadata": {},
   "outputs": [],
   "source": []
  },
  {
   "cell_type": "code",
   "execution_count": null,
   "metadata": {},
   "outputs": [],
   "source": []
  },
  {
   "cell_type": "code",
   "execution_count": null,
   "metadata": {},
   "outputs": [],
   "source": []
  }
 ],
 "metadata": {
  "kernelspec": {
   "display_name": "Python 3",
   "language": "python",
   "name": "python3"
  },
  "language_info": {
   "codemirror_mode": {
    "name": "ipython",
    "version": 3
   },
   "file_extension": ".py",
   "mimetype": "text/x-python",
   "name": "python",
   "nbconvert_exporter": "python",
   "pygments_lexer": "ipython3",
   "version": "3.7.1"
  }
 },
 "nbformat": 4,
 "nbformat_minor": 2
}
